{
 "cells": [
  {
   "cell_type": "code",
   "execution_count": 1,
   "metadata": {},
   "outputs": [],
   "source": [
    "# !pip install typing-extensions --upgrade\n",
    "\n",
    "%load_ext autoreload\n",
    "%autoreload 2"
   ]
  },
  {
   "cell_type": "code",
   "execution_count": 2,
   "metadata": {},
   "outputs": [
    {
     "data": {
      "text/plain": [
       "[(2, 1), (1, 4), (4, 5)]"
      ]
     },
     "execution_count": 2,
     "metadata": {},
     "output_type": "execute_result"
    }
   ],
   "source": [
    "from ar import chain2, comb2\n",
    "\n",
    "\n",
    "list(comb2([2, 1, 4, 5]))\n",
    "list(chain2([2, 1, 4, 5]))"
   ]
  },
  {
   "cell_type": "code",
   "execution_count": 3,
   "metadata": {},
   "outputs": [
    {
     "ename": "KeyError",
     "evalue": "<class 'str'>",
     "output_type": "error",
     "traceback": [
      "\u001b[0;31m---------------------------------------------------------------------------\u001b[0m",
      "\u001b[0;31mKeyError\u001b[0m                                  Traceback (most recent call last)",
      "Cell \u001b[0;32mIn[3], line 25\u001b[0m\n\u001b[1;32m     23\u001b[0m node_A\u001b[38;5;241m.\u001b[39medge_graph\n\u001b[1;32m     24\u001b[0m graph\u001b[38;5;241m.\u001b[39mget(\u001b[38;5;124m\"\u001b[39m\u001b[38;5;124m3/4\u001b[39m\u001b[38;5;124m\"\u001b[39m)\u001b[38;5;241m.\u001b[39medge_graph\n\u001b[0;32m---> 25\u001b[0m \u001b[43mgraph\u001b[49m\u001b[38;5;241;43m.\u001b[39;49m\u001b[43mmerge\u001b[49m\u001b[43m(\u001b[49m\u001b[43m[\u001b[49m\u001b[38;5;124;43m\"\u001b[39;49m\u001b[38;5;124;43mA\u001b[39;49m\u001b[38;5;124;43m\"\u001b[39;49m\u001b[43m,\u001b[49m\u001b[43m \u001b[49m\u001b[38;5;124;43m\"\u001b[39;49m\u001b[38;5;124;43mB\u001b[39;49m\u001b[38;5;124;43m\"\u001b[39;49m\u001b[43m]\u001b[49m\u001b[43m,\u001b[49m\u001b[43m \u001b[49m\u001b[43mdeps\u001b[49m\u001b[38;5;241;43m=\u001b[39;49m\u001b[43m[\u001b[49m\u001b[43m]\u001b[49m\u001b[43m)\u001b[49m\n",
      "File \u001b[0;32m~/reinforcement/alphageometry/graph.py:625\u001b[0m, in \u001b[0;36mGraph.merge\u001b[0;34m(self, nodes, deps)\u001b[0m\n\u001b[1;32m    622\u001b[0m   \u001b[38;5;28;01mreturn\u001b[39;00m\n\u001b[1;32m    624\u001b[0m node0, \u001b[38;5;241m*\u001b[39mnodes1 \u001b[38;5;241m=\u001b[39m nodes\n\u001b[0;32m--> 625\u001b[0m all_nodes \u001b[38;5;241m=\u001b[39m \u001b[38;5;28;43mself\u001b[39;49m\u001b[38;5;241;43m.\u001b[39;49m\u001b[43mtype2nodes\u001b[49m\u001b[43m[\u001b[49m\u001b[38;5;28;43mtype\u001b[39;49m\u001b[43m(\u001b[49m\u001b[43mnode0\u001b[49m\u001b[43m)\u001b[49m\u001b[43m]\u001b[49m\n\u001b[1;32m    627\u001b[0m \u001b[38;5;66;03m# find node0 that exists in all_nodes to be the rep\u001b[39;00m\n\u001b[1;32m    628\u001b[0m \u001b[38;5;66;03m# and merge all other nodes into node0\u001b[39;00m\n\u001b[1;32m    629\u001b[0m \u001b[38;5;28;01mfor\u001b[39;00m node \u001b[38;5;129;01min\u001b[39;00m nodes:\n",
      "\u001b[0;31mKeyError\u001b[0m: <class 'str'>"
     ]
    }
   ],
   "source": [
    "from ar import AngleTable\n",
    "from geometry import Direction, Point, Ratio\n",
    "from graph import Graph\n",
    "import problem as pr\n",
    "\n",
    "graph = Graph()\n",
    "atable = AngleTable()\n",
    "d1 = Direction(\"d1\", graph=graph)\n",
    "d2 = Direction(\"d2\", graph=graph)\n",
    "d2\n",
    "# atable.add_const_angle(d1, d2, 90, pr.Dependency(\"perp\", [Point(\"a\"), Point(\"b\"), Point(\"c\"), Point(\"d\")], \"my_rule\", 0))\n",
    "\n",
    "graph.add_points([\"A\", \"B\"])\n",
    "# automatically adds nodes for ratios and angular ratios (involving pi), complementary angles (1pi/3 = pi - 2pi/3), inverse ratios\n",
    "graph.names2points_or_int([\"2\", \"2pi/3\", \"3/4\", \"A\", \"B\"])\n",
    "node_A = graph.get(\"A\", default_fn=lambda: 1)\n",
    "graph.get(\"C\", default_fn=lambda: Point(\"unknown\"))\n",
    "graph.names2nodes([\"A\", \"B\"])\n",
    "graph.all_points()\n",
    "graph.new_node(Point, \"D\")\n",
    "graph.new_node(Ratio, \"r1\")\n",
    "graph.all_nodes()\n",
    "node_A.edge_graph\n",
    "graph.get(\"3/4\").edge_graph\n",
    "graph.merge([\"A\", \"B\"], deps=[])"
   ]
  },
  {
   "cell_type": "code",
   "execution_count": null,
   "metadata": {},
   "outputs": [],
   "source": [
    "constr_str = \"on_tline c a b\"\n",
    "constr = pr.Construction.from_txt(constr_str)\n",
    "print(constr)\n",
    "print([constr])\n",
    "print(\"\".join(map(str, [constr])))\n",
    "\n",
    "clause = pr.Clause(points=[\"a@0.3_0.2\", \"b\", \"c\"], constructions=[pr.Construction(\"on_tline\", [\"c\", \"a\", \"b\"])])\n",
    "print(clause)"
   ]
  },
  {
   "cell_type": "code",
   "execution_count": null,
   "metadata": {},
   "outputs": [],
   "source": [
    "theorem_str = \"perp A B C D, perp C D E F, ncoll A B E => para A B E F\"\n",
    "thm = pr.Theorem.from_txt(theorem_str)\n",
    "print(thm)"
   ]
  },
  {
   "cell_type": "code",
   "execution_count": null,
   "metadata": {},
   "outputs": [],
   "source": [
    "\n",
    "def_text1 = \"\"\"\\\n",
    "angle_bisector x a b c\n",
    "x : a b c x\n",
    "a b c = ncoll a b c\n",
    "x : eqangle b a b x b x b c\n",
    "bisect a b c\n",
    "\"\"\"\n",
    "def_text2 = \"\"\"\\\n",
    "eq_triangle x b c\n",
    "x : b c\n",
    "b c = diff b c\n",
    "x : cong x b b c, cong b c c x; eqangle b x b c c b c x, eqangle x c x b b x b c\n",
    "circle b b c, circle c b c\n",
    "\"\"\"\n",
    "\n",
    "print(pr.Definition.from_string(def_text2)[0])"
   ]
  },
  {
   "cell_type": "code",
   "execution_count": null,
   "metadata": {},
   "outputs": [],
   "source": []
  },
  {
   "cell_type": "code",
   "execution_count": null,
   "metadata": {},
   "outputs": [],
   "source": []
  },
  {
   "cell_type": "code",
   "execution_count": null,
   "metadata": {},
   "outputs": [],
   "source": [
    "from pretty import pretty_nl\n",
    "\n",
    "\n",
    "def print_as_nl(s):\n",
    "    name, *args = s.split(\" \")\n",
    "    print(f\"{s:24} --> {pretty_nl(name, args)}\")\n",
    "print_as_nl(\"eqangle b a b c b c b x\")\n",
    "print_as_nl(\"amirror a b c\")\n",
    "print_as_nl(\"cong x a x b\") # equal segment\n",
    "print_as_nl(\"para d c a b\")\n",
    "print_as_nl(\"perp x a b c\")\n",
    "print_as_nl(\"coll x b c\")\n",
    "print_as_nl(\"cyclic a b c x\")\n",
    "\n",
    "# print_as_nl(\"\")\n",
    "\n",
    "print()\n",
    "\n",
    "print(f\"{'diff b c':24}: b and c are different points\")"
   ]
  },
  {
   "cell_type": "code",
   "execution_count": null,
   "metadata": {},
   "outputs": [],
   "source": []
  },
  {
   "cell_type": "code",
   "execution_count": null,
   "metadata": {},
   "outputs": [],
   "source": []
  },
  {
   "cell_type": "code",
   "execution_count": null,
   "metadata": {},
   "outputs": [],
   "source": []
  }
 ],
 "metadata": {
  "kernelspec": {
   "display_name": "venv3",
   "language": "python",
   "name": "python3"
  },
  "language_info": {
   "codemirror_mode": {
    "name": "ipython",
    "version": 3
   },
   "file_extension": ".py",
   "mimetype": "text/x-python",
   "name": "python",
   "nbconvert_exporter": "python",
   "pygments_lexer": "ipython3",
   "version": "3.10.14"
  }
 },
 "nbformat": 4,
 "nbformat_minor": 2
}
