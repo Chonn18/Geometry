{
 "cells": [
  {
   "cell_type": "code",
   "execution_count": 9,
   "metadata": {},
   "outputs": [
    {
     "name": "stdout",
     "output_type": "stream",
     "text": [
      "['Point(M)', 'Point(N)', 'Line(A,B)', 'Line(C,D)', 'Line(A,C)', 'Line(B,D)', 'Line(A,N)', 'Line(B,N)', 'IntersectAt(Line(B,N),Line(C,D),Point(Q))', 'Equals(LengthOf(Line(E,P)),Line(E,Q))']\n",
      "Two circles G1 and G2 intersect at two [Point(M)] and [Point(N)]. Let [Line(A,B)] be line tangent to these circles at A and B,, so M lies closer to [Line(A,B)] than N. Let [Line(C,D)] be line parallel to [Line(A,B)] and passing through [Point(M)], with C on G1 and D on G2. Line [Line(A,C)] and Line [Line(B,D)] meet at E; line [Line(A,N)] and line [Line(C,D)] meet at P; line [Line(B,N)], line [Line(C,D)]. [IntersectAt(Line(B,N),Line(C,D),Point(Q))]. Show [Equals(LengthOf(Line(E,P)),Line(E,Q))].\n",
      "Two circles G1 G2 intersect at two be line tangent these circles at A B M lies closer than N be line parallel passing through C on G1 D on G2 Line Line meet at E; line line meet at P; line line Show\n"
     ]
    }
   ],
   "source": [
    "from text_parser.text_parser import test_parse\n",
    "\n",
    "text = \"Two circles G1 and G2 intersect at two points M and N. Let AB be the line tangent to these circles at A and B, respectively, so that M lies closer to AB than N. Let CD be the line parallel to AB and passing through the point M, with C on G1 and D on G2. Lines AC and BD meet at E; lines AN and CD meet at P; lines BN and CD meet at Q. Show that EP = EQ.\"\n",
    "test_parse(text)"
   ]
  },
  {
   "cell_type": "code",
   "execution_count": 22,
   "metadata": {},
   "outputs": [
    {
     "name": "stdout",
     "output_type": "stream",
     "text": [
      "['Equals(Shape($),Parallelogram($))', 'Find(x)']\n"
     ]
    }
   ],
   "source": [
    "from text_parser.text_parser import parse\n",
    "\n",
    "text = \"The figure below is a parallelogram with two angles given in terms of x. Determine the value of x\"\n",
    "a, b, c = parse(text)\n",
    "print(a)"
   ]
  },
  {
   "cell_type": "code",
   "execution_count": 18,
   "metadata": {},
   "outputs": [
    {
     "name": "stdout",
     "output_type": "stream",
     "text": [
      "Two circles G1 G2 intersect at two be line tangent these circles at A B M lies closer than N be line parallel passing through C on G1 D on G2 Line Line meet at E; line line meet at P; line line Show\n"
     ]
    }
   ],
   "source": [
    "print(c)"
   ]
  }
 ],
 "metadata": {
  "kernelspec": {
   "display_name": "myenv",
   "language": "python",
   "name": "python3"
  },
  "language_info": {
   "codemirror_mode": {
    "name": "ipython",
    "version": 3
   },
   "file_extension": ".py",
   "mimetype": "text/x-python",
   "name": "python",
   "nbconvert_exporter": "python",
   "pygments_lexer": "ipython3",
   "version": "3.10.7"
  }
 },
 "nbformat": 4,
 "nbformat_minor": 2
}
